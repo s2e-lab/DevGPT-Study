{
 "cells": [
  {
   "cell_type": "code",
   "execution_count": 3,
   "metadata": {},
   "outputs": [],
   "source": [
    "import spotipy\n",
    "from spotipy.oauth2 import SpotifyClientCredentials, SpotifyOAuth"
   ]
  },
  {
   "cell_type": "code",
   "execution_count": 14,
   "metadata": {},
   "outputs": [],
   "source": [
    "def get_spotify_client(client_id, client_secret):\n",
    "    auth_manager = SpotifyClientCredentials(client_id=client_id, client_secret=client_secret)\n",
    "    spotify_client = spotipy.Spotify(auth_manager=auth_manager)\n",
    "    return spotify_client"
   ]
  },
  {
   "cell_type": "code",
   "execution_count": 15,
   "metadata": {},
   "outputs": [],
   "source": [
    "spotify_client = get_spotify_client(CLIENT_ID, CLIENT_SECRET)"
   ]
  },
  {
   "cell_type": "code",
   "execution_count": 16,
   "metadata": {},
   "outputs": [],
   "source": [
    "from dataclasses import dataclass\n",
    "\n",
    "@dataclass\n",
    "class Track:\n",
    "    id: str\n",
    "    name: str\n",
    "    artist: str\n",
    "    album: str\n",
    "    year: int\n",
    "    duration: int\n",
    "    image: str"
   ]
  },
  {
   "cell_type": "code",
   "execution_count": 17,
   "metadata": {},
   "outputs": [],
   "source": [
    "search_text = \"Columbia\"\n",
    "n_songs = 5"
   ]
  },
  {
   "cell_type": "code",
   "execution_count": 18,
   "metadata": {},
   "outputs": [],
   "source": [
    "def get_match_songs(spotify_client, search_text, n_songs=5):\n",
    "    results = spotify_client.search(q=search_text, limit=n_songs, type='track')\n",
    "    tracks = results['tracks']['items']\n",
    "    \n",
    "    top_tracks = []\n",
    "        \n",
    "    for track in tracks:\n",
    "        track_dataclass = Track(\n",
    "                                id=track['id'],\n",
    "                                name=track['name'], \n",
    "                                artist= track['artists'][0]['name'], \n",
    "                                album=track['album']['name'], \n",
    "                                year=int(track['album']['release_date'][:4]), \n",
    "                                duration=track['duration_ms'], \n",
    "                                image=track['album']['images'][0]['url'])\n",
    "        top_tracks.append(track_dataclass)\n",
    "    \n",
    "    return top_tracks"
   ]
  },
  {
   "cell_type": "code",
   "execution_count": 19,
   "metadata": {},
   "outputs": [
    {
     "data": {
      "text/plain": [
       "<spotipy.client.Spotify at 0x1fd1fe21d10>"
      ]
     },
     "execution_count": 19,
     "metadata": {},
     "output_type": "execute_result"
    }
   ],
   "source": [
    "spotify_client"
   ]
  },
  {
   "cell_type": "code",
   "execution_count": 20,
   "metadata": {},
   "outputs": [],
   "source": [
    "top_tracks = get_match_songs(spotify_client, search_text)"
   ]
  },
  {
   "cell_type": "code",
   "execution_count": 21,
   "metadata": {},
   "outputs": [
    {
     "name": "stdout",
     "output_type": "stream",
     "text": [
      "Id: 6XbtvPmIpyCbjuT0e8cQtp\n",
      "Song: Columbia\n",
      "Artist: Quevedo\n",
      "Album: Columbia\n",
      "Year: 2023\n",
      "Duration (ms): 186000\n",
      "Image: https://i.scdn.co/image/ab67616d0000b273a00a817b017c6f6bf8460be9\n",
      "----------\n",
      "Id: 1IFPahnCrbKR7QXE6aePa0\n",
      "Song: COLUMBIA\n",
      "Artist: AG Club\n",
      "Album: Fuck Your Expectations PT. 1\n",
      "Year: 2021\n",
      "Duration (ms): 187896\n",
      "Image: https://i.scdn.co/image/ab67616d0000b273eaf870e4b8b8afcfa88f0bbe\n",
      "----------\n",
      "Id: 2Q5q1q01KOdHt5fM00WUJ8\n",
      "Song: Colombia, Mi Encanto\n",
      "Artist: Carlos Vives\n",
      "Album: Encanto (Original Motion Picture Soundtrack)\n",
      "Year: 2021\n",
      "Duration (ms): 175280\n",
      "Image: https://i.scdn.co/image/ab67616d0000b273e1ac646ed6f25125e2a77229\n",
      "----------\n",
      "Id: 17cwqWxSyZK4bo7Hg7z9ko\n",
      "Song: Columbia River\n",
      "Artist: Lomelda\n",
      "Album: 4E\n",
      "Year: 2016\n",
      "Duration (ms): 282000\n",
      "Image: https://i.scdn.co/image/ab67616d0000b273264837372b50cae236b01a8b\n",
      "----------\n",
      "Id: 7in3GxNPphXDq1Mcm586el\n",
      "Song: Columbia Remix (Dirty)\n",
      "Artist: Young Scooter\n",
      "Album: Columbia Remix\n",
      "Year: 2013\n",
      "Duration (ms): 310733\n",
      "Image: https://i.scdn.co/image/ab67616d0000b273410b28c96063e9ef03697602\n",
      "----------\n"
     ]
    }
   ],
   "source": [
    "for track_data in top_tracks:\n",
    "    print('Id:', track_data.id)\n",
    "    print('Song:', track_data.name)\n",
    "    print('Artist:', track_data.artist)\n",
    "    print('Album:', track_data.album)\n",
    "    print('Year:', track_data.year)\n",
    "    print('Duration (ms):', track_data.duration)\n",
    "    print('Image:', track_data.image)\n",
    "    print('----------')"
   ]
  },
  {
   "cell_type": "code",
   "execution_count": 31,
   "metadata": {},
   "outputs": [],
   "source": [
    "track_id = \"6XbtvPmIpyCbjuT0e8cQtp\""
   ]
  },
  {
   "cell_type": "code",
   "execution_count": null,
   "metadata": {},
   "outputs": [],
   "source": [
    "spotify_client.add_to_queue()"
   ]
  },
  {
   "cell_type": "code",
   "execution_count": null,
   "metadata": {},
   "outputs": [],
   "source": [
    "def add_song_to_queue(track_id, spotify_client):\n",
    "    # Create a Spotify client object\n",
    "    sp = spotipy.Spotify(auth_manager=SpotifyClientCredentials(client_id=spotify_client['client_id'],\n",
    "                                                               client_secret=spotify_client['client_secret']))\n",
    "\n",
    "    # Get the current user's device ID\n",
    "    devices = sp.devices()\n",
    "    device_id = devices['devices'][0]['id'] if devices['devices'] else None\n",
    "\n",
    "    if device_id:\n",
    "        # Add the song to the queue\n",
    "        sp.add_to_queue(uri=track_id, device_id=device_id)\n",
    "        print(\"Song added to the queue successfully!\")\n",
    "    else:\n",
    "        print(\"No active device found.\")"
   ]
  }
 ],
 "metadata": {
  "kernelspec": {
   "display_name": ".venv",
   "language": "python",
   "name": "python3"
  },
  "language_info": {
   "codemirror_mode": {
    "name": "ipython",
    "version": 3
   },
   "file_extension": ".py",
   "mimetype": "text/x-python",
   "name": "python",
   "nbconvert_exporter": "python",
   "pygments_lexer": "ipython3",
   "version": "3.11.2"
  },
  "orig_nbformat": 4
 },
 "nbformat": 4,
 "nbformat_minor": 2
}
