{
 "cells": [
  {
   "cell_type": "code",
   "execution_count": 21,
   "metadata": {},
   "outputs": [],
   "source": [
    "import json"
   ]
  },
  {
   "cell_type": "code",
   "execution_count": 22,
   "metadata": {},
   "outputs": [
    {
     "data": {
      "text/plain": [
       "{'code': '309             try:\\n310                 response = requests.get(auth0_config_url).json()\\n311                 self.auth0_client_id = response.get(\"auth0Client\", auth0_client_id_fallback)\\n',\n",
       " 'col_offset': 27,\n",
       " 'end_col_offset': 57,\n",
       " 'filename': './4dn-dcic_foursight-core_PR_50_commit_tree/foursight_core/app_utils.py',\n",
       " 'issue_confidence': 'LOW',\n",
       " 'issue_cwe': {'id': 400,\n",
       "  'link': 'https://cwe.mitre.org/data/definitions/400.html'},\n",
       " 'issue_severity': 'MEDIUM',\n",
       " 'issue_text': 'Requests call without timeout',\n",
       " 'line_number': 310,\n",
       " 'line_range': [310],\n",
       " 'more_info': 'https://bandit.readthedocs.io/en/1.7.6/plugins/b113_request_without_timeout.html',\n",
       " 'test_id': 'B113',\n",
       " 'test_name': 'request_without_timeout'}"
      ]
     },
     "execution_count": 22,
     "metadata": {},
     "output_type": "execute_result"
    }
   ],
   "source": [
    "with open('bandit_output.json') as f:\n",
    "    data = json.load(f)\n",
    "    data = data['results']\n",
    "\n",
    "data[0]"
   ]
  },
  {
   "cell_type": "code",
   "execution_count": 23,
   "metadata": {},
   "outputs": [
    {
     "data": {
      "text/plain": [
       "['309             try:\\n310                 response = requests.get(auth0_config_url).json()\\n311                 self.auth0_client_id = response.get(\"auth0Client\", auth0_client_id_fallback)\\n',\n",
       " 27,\n",
       " 57,\n",
       " './4dn-dcic_foursight-core_PR_50_commit_tree/foursight_core/app_utils.py',\n",
       " 'LOW',\n",
       " 400,\n",
       " 'MEDIUM',\n",
       " 'Requests call without timeout',\n",
       " 310,\n",
       " [310],\n",
       " 'https://bandit.readthedocs.io/en/1.7.6/plugins/b113_request_without_timeout.html',\n",
       " 'B113',\n",
       " 'request_without_timeout']"
      ]
     },
     "execution_count": 23,
     "metadata": {},
     "output_type": "execute_result"
    }
   ],
   "source": [
    "new_data = []\n",
    "for item in data:\n",
    "    new_data.append([item['code'], item['col_offset'], item['end_col_offset'], item['filename'], item['issue_confidence'],item['issue_cwe']['id'], item['issue_severity'], item['issue_text'], item['line_number'], item['line_range'], item['more_info'], item['test_id'], item['test_name']])\n",
    "\n",
    "new_data[0]"
   ]
  },
  {
   "cell_type": "code",
   "execution_count": 24,
   "metadata": {},
   "outputs": [],
   "source": [
    "import pandas as pd\n",
    "\n",
    "df = pd.DataFrame(new_data, columns=['code', 'col_offset', 'end_col_offset', 'filename', 'issue_confidence', 'issue_cwe', 'issue_severity', 'issue_text', 'line_number', 'line_range', 'more_info', 'test_id', 'test_name'])\n",
    "df.to_csv('bandit_rq2.csv', index=False)"
   ]
  },
  {
   "cell_type": "code",
   "execution_count": 25,
   "metadata": {},
   "outputs": [
    {
     "data": {
      "text/plain": [
       "568"
      ]
     },
     "execution_count": 25,
     "metadata": {},
     "output_type": "execute_result"
    }
   ],
   "source": [
    "with open('pylint_output.json') as f:\n",
    "    data = json.load(f)\n",
    "len(data)"
   ]
  },
  {
   "cell_type": "code",
   "execution_count": 26,
   "metadata": {},
   "outputs": [],
   "source": [
    "new_data = []\n",
    "for item in data:\n",
    "    if 'details' not in item:\n",
    "        continue\n",
    "    items = json.loads(item['details'])\n",
    "    for item in items:\n",
    "        new_data.append([item['type'], item['module'], item['path'],item['symbol'], item['message'],item['message-id']])"
   ]
  },
  {
   "cell_type": "code",
   "execution_count": 27,
   "metadata": {},
   "outputs": [],
   "source": [
    "df = pd.DataFrame(new_data, columns=['type', 'module', 'path', 'symbol', 'message', 'message-id'])\n",
    "df.to_csv('pylint_rq2.csv', index=False)"
   ]
  },
  {
   "cell_type": "code",
   "execution_count": null,
   "metadata": {},
   "outputs": [],
   "source": []
  }
 ],
 "metadata": {
  "kernelspec": {
   "display_name": "Python 3",
   "language": "python",
   "name": "python3"
  },
  "language_info": {
   "codemirror_mode": {
    "name": "ipython",
    "version": 3
   },
   "file_extension": ".py",
   "mimetype": "text/x-python",
   "name": "python",
   "nbconvert_exporter": "python",
   "pygments_lexer": "ipython3",
   "version": "3.9.4"
  }
 },
 "nbformat": 4,
 "nbformat_minor": 2
}
