{
 "cells": [
  {
   "cell_type": "code",
   "execution_count": 2,
   "metadata": {},
   "outputs": [],
   "source": [
    "import json"
   ]
  },
  {
   "cell_type": "code",
   "execution_count": 3,
   "metadata": {},
   "outputs": [
    {
     "data": {
      "text/plain": [
       "{'code': \"5     characters = string.ascii_letters + string.digits + string.punctuation\\n6     password = ''.join(random.choice(characters) for _ in range(length))\\n7     return password\\n\",\n",
       " 'col_offset': 23,\n",
       " 'end_col_offset': 48,\n",
       " 'filename': 'Python/0856c3a4-2673-4d24-869d-47b4d128d099_0.py',\n",
       " 'issue_confidence': 'HIGH',\n",
       " 'issue_cwe': {'id': 330,\n",
       "  'link': 'https://cwe.mitre.org/data/definitions/330.html'},\n",
       " 'issue_severity': 'LOW',\n",
       " 'issue_text': 'Standard pseudo-random generators are not suitable for security/cryptographic purposes.',\n",
       " 'line_number': 6,\n",
       " 'line_range': [6],\n",
       " 'more_info': 'https://bandit.readthedocs.io/en/1.7.5/blacklists/blacklist_calls.html#b311-random',\n",
       " 'test_id': 'B311',\n",
       " 'test_name': 'blacklist'}"
      ]
     },
     "execution_count": 3,
     "metadata": {},
     "output_type": "execute_result"
    }
   ],
   "source": [
    "with open('bandit.json') as f:\n",
    "    data = json.load(f)\n",
    "    data = data['results']\n",
    "\n",
    "data[0]"
   ]
  },
  {
   "cell_type": "code",
   "execution_count": 4,
   "metadata": {},
   "outputs": [
    {
     "data": {
      "text/plain": [
       "[\"5     characters = string.ascii_letters + string.digits + string.punctuation\\n6     password = ''.join(random.choice(characters) for _ in range(length))\\n7     return password\\n\",\n",
       " 23,\n",
       " 48,\n",
       " 'Python/0856c3a4-2673-4d24-869d-47b4d128d099_0.py',\n",
       " 'HIGH',\n",
       " 330,\n",
       " 'LOW',\n",
       " 'Standard pseudo-random generators are not suitable for security/cryptographic purposes.',\n",
       " 6,\n",
       " [6],\n",
       " 'https://bandit.readthedocs.io/en/1.7.5/blacklists/blacklist_calls.html#b311-random',\n",
       " 'B311',\n",
       " 'blacklist']"
      ]
     },
     "execution_count": 4,
     "metadata": {},
     "output_type": "execute_result"
    }
   ],
   "source": [
    "new_data = []\n",
    "for item in data:\n",
    "    new_data.append([item['code'], item['col_offset'], item['end_col_offset'], item['filename'], item['issue_confidence'],item['issue_cwe']['id'], item['issue_severity'], item['issue_text'], item['line_number'], item['line_range'], item['more_info'], item['test_id'], item['test_name']])\n",
    "\n",
    "new_data[0]"
   ]
  },
  {
   "cell_type": "code",
   "execution_count": 5,
   "metadata": {},
   "outputs": [],
   "source": [
    "import pandas as pd\n",
    "\n",
    "df = pd.DataFrame(new_data, columns=['code', 'col_offset', 'end_col_offset', 'filename', 'issue_confidence', 'issue_cwe', 'issue_severity', 'issue_text', 'line_number', 'line_range', 'more_info', 'test_id', 'test_name'])\n",
    "df.to_csv('bandit_rq1.csv', index=False)"
   ]
  },
  {
   "cell_type": "code",
   "execution_count": 6,
   "metadata": {},
   "outputs": [
    {
     "data": {
      "text/plain": [
       "4807"
      ]
     },
     "execution_count": 6,
     "metadata": {},
     "output_type": "execute_result"
    }
   ],
   "source": [
    "with open('pylint.json') as f:\n",
    "    data = json.load(f)\n",
    "len(data)"
   ]
  },
  {
   "cell_type": "code",
   "execution_count": 9,
   "metadata": {},
   "outputs": [],
   "source": [
    "new_data = []\n",
    "for item in data:\n",
    "    new_data.append([item['type'], item['module'], item['path'],item['symbol'], item['message'],item['message-id']])"
   ]
  },
  {
   "cell_type": "code",
   "execution_count": 10,
   "metadata": {},
   "outputs": [],
   "source": [
    "df = pd.DataFrame(new_data, columns=['type', 'module', 'path', 'symbol', 'message', 'message-id'])\n",
    "df.to_csv('pylint_rq1.csv', index=False)"
   ]
  },
  {
   "cell_type": "code",
   "execution_count": null,
   "metadata": {},
   "outputs": [],
   "source": []
  }
 ],
 "metadata": {
  "kernelspec": {
   "display_name": "Python 3",
   "language": "python",
   "name": "python3"
  },
  "language_info": {
   "codemirror_mode": {
    "name": "ipython",
    "version": 3
   },
   "file_extension": ".py",
   "mimetype": "text/x-python",
   "name": "python",
   "nbconvert_exporter": "python",
   "pygments_lexer": "ipython3",
   "version": "3.9.4"
  }
 },
 "nbformat": 4,
 "nbformat_minor": 2
}
