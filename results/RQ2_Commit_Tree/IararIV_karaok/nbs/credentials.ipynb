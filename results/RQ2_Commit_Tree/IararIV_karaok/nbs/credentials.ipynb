{
 "cells": [
  {
   "cell_type": "code",
   "execution_count": 28,
   "metadata": {},
   "outputs": [],
   "source": [
    "from spotipy.oauth2 import SpotifyOAuth\n",
    "from spotipy.client import Spotify\n",
    "\n",
    "from dataclasses import dataclass\n",
    "\n",
    "import json\n",
    "import requests\n",
    "from urllib.parse import urlencode\n",
    "import base64\n",
    "import webbrowser"
   ]
  },
  {
   "cell_type": "code",
   "execution_count": 12,
   "metadata": {},
   "outputs": [],
   "source": [
    "client_id = \"30a1435e801a4f5884f0721a3fc36d2b\"\n",
    "client_secret = \"eaa1be0fcc8e442f98488a759597a628\""
   ]
  },
  {
   "cell_type": "code",
   "execution_count": 13,
   "metadata": {},
   "outputs": [
    {
     "data": {
      "text/plain": [
       "True"
      ]
     },
     "execution_count": 13,
     "metadata": {},
     "output_type": "execute_result"
    }
   ],
   "source": [
    "auth_headers = {\n",
    "    \"client_id\": client_id,\n",
    "    \"response_type\": \"code\",\n",
    "    \"redirect_uri\": \"http://localhost:7777/callback\",\n",
    "    \"scope\": \"user-library-read\"\n",
    "}\n",
    "\n",
    "webbrowser.open(\"https://accounts.spotify.com/authorize?\" + urlencode(auth_headers))"
   ]
  },
  {
   "cell_type": "code",
   "execution_count": 18,
   "metadata": {},
   "outputs": [],
   "source": [
    "code = \"AQDbY3TmA3gyLbGUFsyLba_sxDPBwODfYxH07RhATVrUjRnjeNphfmdZz4AzxSu6u8MG6Qij5AYSzLHw6STAaUelBnQaRAOlAr_QCd33mc9vSbJAvtUSMC_eQ5U1Z5_kapttax3vI2o1OswDx-PpGStf_NX2CWzOcWm6SHrNrM8AF_MNDMHcidjXCJOgm5z5Ddt5BRA\""
   ]
  },
  {
   "cell_type": "code",
   "execution_count": 19,
   "metadata": {},
   "outputs": [],
   "source": [
    "encoded_credentials = base64.b64encode(client_id.encode() + b':' + client_secret.encode()).decode(\"utf-8\")\n",
    "\n",
    "token_headers = {\n",
    "    \"Authorization\": \"Basic \" + encoded_credentials,\n",
    "    \"Content-Type\": \"application/x-www-form-urlencoded\"\n",
    "}\n",
    "\n",
    "token_data = {\n",
    "    \"grant_type\": \"authorization_code\",\n",
    "    \"code\": code,\n",
    "    \"redirect_uri\": \"http://localhost:7777/callback\"\n",
    "}\n",
    "\n",
    "r = requests.post(\"https://accounts.spotify.com/api/token\", data=token_data, headers=token_headers)"
   ]
  },
  {
   "cell_type": "code",
   "execution_count": 20,
   "metadata": {},
   "outputs": [
    {
     "name": "stdout",
     "output_type": "stream",
     "text": [
      "BQCc8bLoFBpiRYipbTeWKyvxXxzkuykFQh-li_gCuT4iNqRg6iiNX2su38n4LCV_e7JI_9eAlI5uFk01p3EWgjd9i9OWxHVdQE0fHZQq1PiSpQtE0EouW9AE_zHC1RGVWVNRjwulV-MCfhaoYFa8DcAtKUctq7FnYAFYEDnh_h8yYcn3jZsz3fhTcGiC2Xq8C-LwnqA\n"
     ]
    }
   ],
   "source": [
    "token = r.json()[\"access_token\"]\n",
    "\n",
    "print(token)"
   ]
  },
  {
   "cell_type": "code",
   "execution_count": 25,
   "metadata": {},
   "outputs": [],
   "source": [
    "@dataclass\n",
    "class Credentials:\n",
    "    client_id: str\n",
    "    client_secret: str\n",
    "    readirect_uri: str\n",
    "    token: str"
   ]
  },
  {
   "cell_type": "code",
   "execution_count": 42,
   "metadata": {},
   "outputs": [],
   "source": [
    "def get_spotify_client(credentials: Credentials) -> Spotify:\n",
    "    auth_manager = SpotifyOAuth(client_id=credentials.client_id, client_secret=credentials.client_secret, redirect_uri=credentials.readirect_uri)\n",
    "    spotify_client = Spotify(auth_manager=auth_manager)\n",
    "    return spotify_client"
   ]
  },
  {
   "cell_type": "code",
   "execution_count": 43,
   "metadata": {},
   "outputs": [],
   "source": [
    "with open(\"../../party/spotify/credentials.json\") as credentials_file:\n",
    "    credentials_dict = json.load(credentials_file)\n",
    "    credentials = Credentials(**credentials_dict)"
   ]
  },
  {
   "cell_type": "code",
   "execution_count": 44,
   "metadata": {},
   "outputs": [
    {
     "name": "stderr",
     "output_type": "stream",
     "text": [
      "Exception ignored in: <function SpotifyAuthBase.__del__ at 0x0000026589E86700>\n",
      "Traceback (most recent call last):\n",
      "  File \"c:\\Users\\gerar\\Projects\\karaok.ai\\.venv\\Lib\\site-packages\\spotipy\\oauth2.py\", line 156, in __del__\n",
      "    if isinstance(self._session, requests.Session):\n",
      "                  ^^^^^^^^^^^^^\n",
      "AttributeError: 'SpotifyOAuth' object has no attribute '_session'\n"
     ]
    },
    {
     "ename": "TypeError",
     "evalue": "SpotifyOAuth.__init__() got an unexpected keyword argument 'token'",
     "output_type": "error",
     "traceback": [
      "\u001b[1;31m---------------------------------------------------------------------------\u001b[0m",
      "\u001b[1;31mTypeError\u001b[0m                                 Traceback (most recent call last)",
      "Cell \u001b[1;32mIn[44], line 1\u001b[0m\n\u001b[1;32m----> 1\u001b[0m spotify_client \u001b[39m=\u001b[39m get_spotify_client(credentials)\n",
      "Cell \u001b[1;32mIn[42], line 2\u001b[0m, in \u001b[0;36mget_spotify_client\u001b[1;34m(credentials)\u001b[0m\n\u001b[0;32m      1\u001b[0m \u001b[39mdef\u001b[39;00m \u001b[39mget_spotify_client\u001b[39m(credentials: Credentials) \u001b[39m-\u001b[39m\u001b[39m>\u001b[39m Spotify:\n\u001b[1;32m----> 2\u001b[0m     auth_manager \u001b[39m=\u001b[39m SpotifyOAuth(client_id\u001b[39m=\u001b[39;49mcredentials\u001b[39m.\u001b[39;49mclient_id, client_secret\u001b[39m=\u001b[39;49mcredentials\u001b[39m.\u001b[39;49mclient_secret, redirect_uri\u001b[39m=\u001b[39;49mcredentials\u001b[39m.\u001b[39;49mreadirect_uri, token\u001b[39m=\u001b[39;49mcredentials\u001b[39m.\u001b[39;49mtoken)\n\u001b[0;32m      3\u001b[0m     spotify_client \u001b[39m=\u001b[39m Spotify(auth_manager\u001b[39m=\u001b[39mauth_manager)\n\u001b[0;32m      4\u001b[0m     \u001b[39mreturn\u001b[39;00m spotify_client\n",
      "\u001b[1;31mTypeError\u001b[0m: SpotifyOAuth.__init__() got an unexpected keyword argument 'token'"
     ]
    }
   ],
   "source": [
    "spotify_client = get_spotify_client(credentials)"
   ]
  },
  {
   "cell_type": "code",
   "execution_count": 45,
   "metadata": {},
   "outputs": [],
   "source": [
    "import requests\n",
    "import base64\n",
    "\n",
    "class TokenGetter():\n",
    "  def __init__(self, client_id, client_secret):\n",
    "    self.client_id = client_id\n",
    "    self.client_secret = client_secret\n",
    "    self.auth_token = self.get_auth_token()\n",
    "\n",
    "  def get_auth_token(self):\n",
    "    # Step 1 - Authorization \n",
    "    url = \"https://accounts.spotify.com/api/token\"\n",
    "    headers = {}\n",
    "    data = {}\n",
    "\n",
    "    # Encode as Base64\n",
    "    message = f\"{self.client_id}:{self.client_secret}\"\n",
    "    messageBytes = message.encode('ascii')\n",
    "    base64Bytes = base64.b64encode(messageBytes)\n",
    "    base64Message = base64Bytes.decode('ascii')\n",
    "\n",
    "    headers['Authorization'] = f\"Basic {base64Message}\"\n",
    "    data['grant_type'] = \"client_credentials\"\n",
    "\n",
    "    r = requests.post(url, headers=headers, data=data)\n",
    "\n",
    "    token = r.json()['access_token']\n",
    "\n",
    "    return token"
   ]
  },
  {
   "cell_type": "code",
   "execution_count": 46,
   "metadata": {},
   "outputs": [],
   "source": [
    "tg = TokenGetter(client_id=client_id, client_secret=client_secret)"
   ]
  },
  {
   "cell_type": "code",
   "execution_count": 47,
   "metadata": {},
   "outputs": [],
   "source": [
    "token = tg.auth_token"
   ]
  },
  {
   "cell_type": "code",
   "execution_count": 48,
   "metadata": {},
   "outputs": [
    {
     "data": {
      "text/plain": [
       "'BQB8-JLf2PddaY5bvyMcuL6sK1fTvWOL9h3ic2R3KnI76qeiL-vlaz2QqK_DICncGnu_EFPtC2IzsNG7vx8K7pyrWPiOy_8gn0_xzVjUF8k7PvCBJko'"
      ]
     },
     "execution_count": 48,
     "metadata": {},
     "output_type": "execute_result"
    }
   ],
   "source": [
    "token"
   ]
  }
 ],
 "metadata": {
  "kernelspec": {
   "display_name": ".venv",
   "language": "python",
   "name": "python3"
  },
  "language_info": {
   "codemirror_mode": {
    "name": "ipython",
    "version": 3
   },
   "file_extension": ".py",
   "mimetype": "text/x-python",
   "name": "python",
   "nbconvert_exporter": "python",
   "pygments_lexer": "ipython3",
   "version": "3.11.2"
  },
  "orig_nbformat": 4
 },
 "nbformat": 4,
 "nbformat_minor": 2
}
