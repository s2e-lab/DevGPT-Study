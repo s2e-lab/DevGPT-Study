{
 "cells": [
  {
   "cell_type": "code",
   "execution_count": 12,
   "metadata": {},
   "outputs": [],
   "source": [
    "import os\n",
    "import glob\n",
    "import pandas as pd\n"
   ]
  },
  {
   "cell_type": "code",
   "execution_count": 13,
   "metadata": {},
   "outputs": [],
   "source": [
    "with open('./java_files_updated.txt', 'r') as f:\n",
    "    java_files = f.readlines()\n",
    "\n",
    "java_files = [\"/\".join(x.strip().split('/')[3:]) for x in java_files]\n"
   ]
  },
  {
   "cell_type": "code",
   "execution_count": 14,
   "metadata": {},
   "outputs": [],
   "source": [
    "\n",
    "def read_all_csv_files(folder_path, java_files):\n",
    "    # Use os.walk to traverse through the directory structure recursively\n",
    "\n",
    "    all_data = []\n",
    "    for root, dirs, files in os.walk(folder_path):\n",
    "        # Use glob to filter only CSV files\n",
    "        csv_files = glob.glob(os.path.join(root, '*.csv'))\n",
    "        \n",
    "        # Iterate over each CSV file and read it using pandas\n",
    "\n",
    "        for csv_file in csv_files:\n",
    "            try:\n",
    "                project_name = csv_file.split('/')[1]\n",
    "                result_type = csv_file.split('/')[-1].split('.')[0]\n",
    "                additional = ''\n",
    "                if 'Security' in result_type:\n",
    "                    additional = '_'.join(result_type.split('_')[1:])\n",
    "                    result_type = 'Security'\n",
    "                \n",
    "                print(project_name, result_type, additional)\n",
    "\n",
    "                # Read CSV file into a pandas DataFrame\n",
    "                df = pd.read_csv(csv_file)\n",
    "\n",
    "                # Check every row and see if the file name is in the list of Java files\n",
    "                # If it is, then write the row to a new CSV file\n",
    "                for index, row in df.iterrows():\n",
    "                    data = \"\\t\".join([str(x) for x in row])\n",
    "                    found = False\n",
    "                    for java_file in java_files:\n",
    "                        if java_file in data:\n",
    "                            found = True\n",
    "                            break\n",
    "                    if found:\n",
    "                        # insert project name, result type, additional into the row and append to all_data\n",
    "                        all_data.append([project_name, result_type, additional] + [str(x) for x in row])\n",
    "                            \n",
    "                \n",
    "            except Exception as e:\n",
    "                # Handle any errors that may occur during reading\n",
    "                print(f\"Error reading {csv_file}: {e}\")\n",
    "\n",
    "    return all_data"
   ]
  },
  {
   "cell_type": "code",
   "execution_count": 15,
   "metadata": {},
   "outputs": [
    {
     "name": "stdout",
     "output_type": "stream",
     "text": [
      "all_data.csv all_data \n",
      "SpringbooJPA Advisory \n",
      "SpringbooJPA DeadCode \n",
      "Core Language_Abuse \n",
      "Core Performance \n",
      "Core Security CWE-190\n",
      "Core Security CWE-807\n",
      "Core Security CWE-022\n",
      "Core Architecture \n",
      "Core Security CWE-023\n",
      "Core Security CWE-209\n",
      "Core Advisory \n",
      "Core Violations_of_Best_Practice \n",
      "Core Security CWE-319\n",
      "Core Security CWE-681\n",
      "Core Security CWE-327\n",
      "Core DeadCode \n",
      "Core Security CWE-079\n",
      "Core Security CWE-134\n",
      "Core Security CWE-297\n",
      "Core Security CWE-532\n",
      "Core Security CWE-730\n",
      "Core Security CWE-094\n",
      "Core Security CWE-113\n",
      "Core Security CWE-501\n",
      "Core Security CWE-918\n",
      "Core Security CWE-312\n",
      "Core Security CWE-129\n",
      "Core Security CWE-117\n",
      "Core Security CWE-089\n",
      "Core Security CWE-614\n",
      "Core Security CWE-601\n",
      "Core Complexity \n",
      "Core Security CWE-611\n",
      "Core Security CWE-200\n",
      "Core Security CWE-798\n",
      "OpenSearch Language_Abuse \n",
      "OpenSearch Performance \n",
      "OpenSearch Architecture \n",
      "OpenSearch Advisory \n",
      "OpenSearch Violations_of_Best_Practice \n",
      "OpenSearch DeadCode \n",
      "OpenSearch Security CWE-532\n",
      "OpenSearch Security CWE-113\n",
      "OpenSearch Security CWE-117\n",
      "OpenSearch Security CWE-798\n",
      "SpringCafeservice Security CWE-352\n",
      "SpringCafeservice Advisory \n",
      "SpringCafeservice Violations_of_Best_Practice \n",
      "SpringCafeservice DeadCode \n",
      "SpringCafeservice Security CWE-532\n",
      "DistributedMiningNetwork Security CWE-022\n",
      "DistributedMiningNetwork Advisory \n",
      "DistributedMiningNetwork Violations_of_Best_Practice \n",
      "DistributedMiningNetwork Security CWE-319\n",
      "DistributedMiningNetwork DeadCode \n",
      "AemCoreFormsComponents Language_Abuse \n",
      "AemCoreFormsComponents Performance \n",
      "AemCoreFormsComponents Security CWE-190\n",
      "AemCoreFormsComponents Architecture \n",
      "AemCoreFormsComponents Advisory \n",
      "AemCoreFormsComponents Violations_of_Best_Practice \n",
      "AemCoreFormsComponents DeadCode \n",
      "AemCoreFormsComponents Security CWE-117\n",
      "Beacons Language_Abuse \n",
      "Beacons Performance \n",
      "Beacons Architecture \n",
      "Beacons Security CWE-209\n",
      "Beacons Advisory \n",
      "Beacons Violations_of_Best_Practice \n",
      "Beacons DeadCode \n",
      "Beacons Security CWE-532\n",
      "Beacons Security CWE-730\n"
     ]
    }
   ],
   "source": [
    "folder_path = './'\n",
    "all_data = read_all_csv_files(folder_path, java_files)"
   ]
  },
  {
   "cell_type": "code",
   "execution_count": 18,
   "metadata": {},
   "outputs": [],
   "source": [
    "df = pd.DataFrame(all_data)\n",
    "df.to_csv('all_data.csv', index=False, header=False)"
   ]
  },
  {
   "cell_type": "code",
   "execution_count": null,
   "metadata": {},
   "outputs": [],
   "source": []
  }
 ],
 "metadata": {
  "kernelspec": {
   "display_name": "Python 3",
   "language": "python",
   "name": "python3"
  },
  "language_info": {
   "codemirror_mode": {
    "name": "ipython",
    "version": 3
   },
   "file_extension": ".py",
   "mimetype": "text/x-python",
   "name": "python",
   "nbconvert_exporter": "python",
   "pygments_lexer": "ipython3",
   "version": "3.9.4"
  }
 },
 "nbformat": 4,
 "nbformat_minor": 2
}
