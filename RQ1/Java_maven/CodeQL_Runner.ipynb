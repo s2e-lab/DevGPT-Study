{
 "cells": [
  {
   "cell_type": "code",
   "execution_count": 1,
   "metadata": {},
   "outputs": [],
   "source": [
    "import subprocess\n"
   ]
  },
  {
   "cell_type": "code",
   "execution_count": 4,
   "metadata": {},
   "outputs": [],
   "source": [
    "project_names = \"\"\"\n",
    "0514eecc-9214-49db-9598-093dbbb5a588_0\n",
    "08649025-20e3-42e6-abba-32c29722dc0c_0\n",
    "0a2bd87e-2797-4067-8290-45c5381f39bf_0\n",
    "0a69776f-09a0-492f-94e9-97ca649fa1c2_0\n",
    "12b4c378-3a0a-478b-aa99-280771801977_0\n",
    "17e938b3-a7d4-42f1-ba1f-b3186df65836_3\n",
    "2141682a-9089-4e5e-bfc8-790dd16f68f0_0\n",
    "2141682a-9089-4e5e-bfc8-790dd16f68f0_1\n",
    "2141682a-9089-4e5e-bfc8-790dd16f68f0_2\n",
    "21e49b75-516f-46bd-8cf7-2eeffac7bb97_0\n",
    "25819bff-f407-46dc-9b52-62d4976293c0_0\n",
    "2770bf7b-9927-4fd5-a675-e34dce7cefc7_0\n",
    "2770bf7b-9927-4fd5-a675-e34dce7cefc7_1\n",
    "2770bf7b-9927-4fd5-a675-e34dce7cefc7_3\n",
    "2770bf7b-9927-4fd5-a675-e34dce7cefc7_4\n",
    "2a8f82bb-ce20-496d-8ddc-b5df99705ff6_1\n",
    "2b55d53f-c2df-4f92-abf2-437cd3c7a0e6_0\n",
    "2f8bded2-4b85-4784-9449-bdda58b030d1_0\n",
    "3069aebe-87ad-4354-a839-5c29f864f9e2_0\n",
    "336b057b-3049-4246-a9d7-77231cc89785_2\n",
    "336b057b-3049-4246-a9d7-77231cc89785_4\n",
    "3f0b59f3-d7ce-4d88-a6a6-da3056da4128_0\n",
    "52305262-66c1-4b11-92e0-b81694dae809_0\n",
    "60cb28bf-183b-4448-aef5-aad5b56e40fc_0\n",
    "60cb28bf-183b-4448-aef5-aad5b56e40fc_1\n",
    "60cb28bf-183b-4448-aef5-aad5b56e40fc_2\n",
    "60cb28bf-183b-4448-aef5-aad5b56e40fc_3\n",
    "633e2b6f-6e7b-43e7-8a8a-7fbe47c0aa4b_0\n",
    "7769ab8b-6f90-45d4-affa-4902a5e4d4ee_0\n",
    "85a33a1a-8b2b-4942-b82a-317946dfd425_0\n",
    "85a33a1a-8b2b-4942-b82a-317946dfd425_2\n",
    "85a33a1a-8b2b-4942-b82a-317946dfd425_3\n",
    "89737d1b-08e5-452c-a2e8-d59c58b59a3f_0\n",
    "db090593-45ec-4f1e-99d9-d0bf66b98519_0\n",
    "db090593-45ec-4f1e-99d9-d0bf66b98519_1\n",
    "db090593-45ec-4f1e-99d9-d0bf66b98519_2\n",
    "db090593-45ec-4f1e-99d9-d0bf66b98519_3\n",
    "dd82b2ad-dd07-40dc-bd65-52bd3b44ef94_0\n",
    "dd82b2ad-dd07-40dc-bd65-52bd3b44ef94_3\n",
    "e91b3827-8518-4656-b4c4-79d1bbdb3f4d_0\n",
    "e91b3827-8518-4656-b4c4-79d1bbdb3f4d_1\n",
    "e91b3827-8518-4656-b4c4-79d1bbdb3f4d_2\n",
    "e91b3827-8518-4656-b4c4-79d1bbdb3f4d_3\n",
    "e91b3827-8518-4656-b4c4-79d1bbdb3f4d_4\n",
    "e91b3827-8518-4656-b4c4-79d1bbdb3f4d_5\n",
    "e91b3827-8518-4656-b4c4-79d1bbdb3f4d_6\n",
    "e9b335ea-b23e-49f9-9a31-ea5009817ed3_1\n",
    "fdf1e5e2-4cfa-485f-a00b-a179e1a0cacc_0\n",
    "fdf1e5e2-4cfa-485f-a00b-a179e1a0cacc_1\n",
    "fdf1e5e2-4cfa-485f-a00b-a179e1a0cacc_2\n",
    "fe6258ed-93d6-446b-a39b-6b9c9d1ac0b1_0\n",
    "fe6258ed-93d6-446b-a39b-6b9c9d1ac0b1_1\n",
    "fe6258ed-93d6-446b-a39b-6b9c9d1ac0b1_2\n",
    "fe6258ed-93d6-446b-a39b-6b9c9d1ac0b1_3\n",
    "8ce87c69-a8f4-4200-8e13-ebfa45719c67_0\n",
    "a7f57638-408a-4322-86c4-193b2f085c96_1\n",
    "a7f57638-408a-4322-86c4-193b2f085c96_2\n",
    "a91172f5-5778-43d1-9c66-8321720753be_0\n",
    "a91172f5-5778-43d1-9c66-8321720753be_1\n",
    "b0e9f648-21a6-4069-b474-a4a60e8f334d_0\n",
    "baaf06c5-4bcd-4732-9071-854a3e5f406f_0\n",
    "baaf06c5-4bcd-4732-9071-854a3e5f406f_1\n",
    "c1d0a5fa-9ee7-4f8d-92da-13fabe2c6726_2\n",
    "d1843d8c-df5b-429c-ba8c-1fff659fc7f7_0\n",
    "d1843d8c-df5b-429c-ba8c-1fff659fc7f7_1\n",
    "d1843d8c-df5b-429c-ba8c-1fff659fc7f7_2\n",
    "d1843d8c-df5b-429c-ba8c-1fff659fc7f7_3\n",
    "\"\"\""
   ]
  },
  {
   "cell_type": "code",
   "execution_count": 6,
   "metadata": {},
   "outputs": [
    {
     "data": {
      "text/plain": [
       "35"
      ]
     },
     "execution_count": 6,
     "metadata": {},
     "output_type": "execute_result"
    }
   ],
   "source": [
    "project_list = [x.strip().split('_')[0] for x in project_names.split(\"\\n\") if x.strip()]\n",
    "len(set(project_list))"
   ]
  },
  {
   "cell_type": "code",
   "execution_count": null,
   "metadata": {},
   "outputs": [],
   "source": [
    "for project_name in project_names.split():\n",
    "    with open('./script_bk.sh') as f:\n",
    "        content = f.read()\n",
    "\n",
    "    content = content.replace('PROJECT_NAME', project_name)\n",
    "\n",
    "    with open('./script.sh', 'w') as f:\n",
    "        f.write(content)\n",
    "\n",
    "    subprocess.run(['bash', './script.sh'])\n"
   ]
  },
  {
   "cell_type": "code",
   "execution_count": null,
   "metadata": {},
   "outputs": [],
   "source": []
  }
 ],
 "metadata": {
  "kernelspec": {
   "display_name": "Python 3",
   "language": "python",
   "name": "python3"
  },
  "language_info": {
   "codemirror_mode": {
    "name": "ipython",
    "version": 3
   },
   "file_extension": ".py",
   "mimetype": "text/x-python",
   "name": "python",
   "nbconvert_exporter": "python",
   "pygments_lexer": "ipython3",
   "version": "3.9.4"
  }
 },
 "nbformat": 4,
 "nbformat_minor": 2
}
